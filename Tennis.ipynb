{
 "cells": [
  {
   "cell_type": "markdown",
   "metadata": {},
   "source": [
    "# Collaboration and Competition\n",
    "\n",
    "---\n",
    "\n",
    "You are welcome to use this coding environment to train your agent for the project.  Follow the instructions below to get started!\n",
    "\n",
    "### 1. Start the Environment\n",
    "\n",
    "Run the next code cell to install a few packages.  This line will take a few minutes to run!"
   ]
  },
  {
   "cell_type": "code",
   "execution_count": null,
   "metadata": {},
   "outputs": [],
   "source": [
    "#!pip -q install ./python"
   ]
  },
  {
   "cell_type": "markdown",
   "metadata": {},
   "source": [
    "The environment is already saved in the Workspace and can be accessed at the file path provided below. "
   ]
  },
  {
   "cell_type": "code",
   "execution_count": null,
   "metadata": {},
   "outputs": [],
   "source": [
    "from unityagents import UnityEnvironment\n",
    "import numpy as np\n",
    "\n",
    "env = UnityEnvironment(file_name=\"Tennis\")"
   ]
  },
  {
   "cell_type": "markdown",
   "metadata": {},
   "source": [
    "Environments contain **_brains_** which are responsible for deciding the actions of their associated agents. Here we check for the first brain available, and set it as the default brain we will be controlling from Python."
   ]
  },
  {
   "cell_type": "code",
   "execution_count": 3,
   "metadata": {},
   "outputs": [
    {
     "name": "stdout",
     "output_type": "stream",
     "text": [
      "brain_name is TennisBrain\n"
     ]
    }
   ],
   "source": [
    "# get the default brain\n",
    "brain_name = env.brain_names[0]\n",
    "brain = env.brains[brain_name]\n",
    "\n",
    "print(f'brain_name is {brain_name}')"
   ]
  },
  {
   "cell_type": "markdown",
   "metadata": {},
   "source": [
    "### 2. Examine the State and Action Spaces\n",
    "\n",
    "Run the code cell below to print some information about the environment."
   ]
  },
  {
   "cell_type": "code",
   "execution_count": 4,
   "metadata": {},
   "outputs": [
    {
     "name": "stdout",
     "output_type": "stream",
     "text": [
      "Number of agents: 2\n",
      "Size of each action: 2\n",
      "There are 2 agents. Each observes a state with length: 24\n",
      "The state for the first agent looks like: [ 0.          0.          0.          0.          0.          0.          0.\n",
      "  0.          0.          0.          0.          0.          0.          0.\n",
      "  0.          0.         -6.65278625 -1.5        -0.          0.\n",
      "  6.83172083  6.         -0.          0.        ]\n",
      "The state for the 2nd agent looks like: [ 0.          0.          0.          0.          0.          0.          0.\n",
      "  0.          0.          0.          0.          0.          0.          0.\n",
      "  0.          0.         -6.4669857  -1.5         0.          0.\n",
      " -6.83172083  6.          0.          0.        ]\n"
     ]
    }
   ],
   "source": [
    "# reset the environment\n",
    "env_info = env.reset(train_mode=True)[brain_name]\n",
    "\n",
    "# number of agents \n",
    "num_agents = len(env_info.agents)\n",
    "print('Number of agents:', num_agents)\n",
    "\n",
    "# size of each action\n",
    "action_size = brain.vector_action_space_size\n",
    "print('Size of each action:', action_size)\n",
    "\n",
    "# examine the state space \n",
    "states = env_info.vector_observations\n",
    "state_size = states.shape[1]\n",
    "print('There are {} agents. Each observes a state with length: {}'.format(states.shape[0], state_size))\n",
    "print('The state for the first agent looks like:', states[0])\n",
    "print('The state for the 2nd agent looks like:', states[1])"
   ]
  },
  {
   "cell_type": "markdown",
   "metadata": {},
   "source": [
    "### 3. Take Random Actions in the Environment\n",
    "\n",
    "In the next code cell, you will learn how to use the Python API to control the agent and receive feedback from the environment.\n",
    "\n",
    "Note that **in this coding environment, you will not be able to watch the agents while they are training**, and you should set `train_mode=True` to restart the environment."
   ]
  },
  {
   "cell_type": "code",
   "execution_count": 5,
   "metadata": {},
   "outputs": [
    {
     "name": "stdout",
     "output_type": "stream",
     "text": [
      "Total score (averaged over agents) this episode: -0.004999999888241291\n",
      "Total score (averaged over agents) this episode: -0.004999999888241291\n",
      "Total score (averaged over agents) this episode: -0.004999999888241291\n",
      "Total score (averaged over agents) this episode: -0.004999999888241291\n",
      "Total score (averaged over agents) this episode: 0.09500000160187483\n"
     ]
    }
   ],
   "source": [
    "for i in range(5):                                         # play game for 5 episodes\n",
    "    env_info = env.reset(train_mode=False)[brain_name]     # reset the environment    \n",
    "    states = env_info.vector_observations                  # get the current state (for each agent)\n",
    "    scores = np.zeros(num_agents)                          # initialize the score (for each agent)\n",
    "    while True:\n",
    "        actions = np.random.randn(num_agents, action_size) # select an action (for each agent)\n",
    "        actions = np.clip(actions, -1, 1)                  # all actions between -1 and 1\n",
    "        env_info = env.step(actions)[brain_name]           # send all actions to tne environment\n",
    "        next_states = env_info.vector_observations         # get next state (for each agent)\n",
    "        rewards = env_info.rewards                         # get reward (for each agent)\n",
    "        dones = env_info.local_done                        # see if episode finished\n",
    "        scores += env_info.rewards                         # update the score (for each agent)\n",
    "        states = next_states                               # roll over states to next time step\n",
    "        if np.any(dones):                                  # exit loop if episode finished\n",
    "            break\n",
    "    print('Total score (averaged over agents) this episode: {}'.format(np.mean(scores)))"
   ]
  },
  {
   "cell_type": "markdown",
   "metadata": {},
   "source": [
    "When finished, you can close the environment."
   ]
  },
  {
   "cell_type": "code",
   "execution_count": 6,
   "metadata": {},
   "outputs": [],
   "source": [
    "#env.close()"
   ]
  },
  {
   "cell_type": "markdown",
   "metadata": {},
   "source": [
    "### 4. It's Your Turn!\n",
    "\n",
    "Now it's your turn to train your own agent to solve the environment!  A few **important notes**:\n",
    "- When training the environment, set `train_mode=True`, so that the line for resetting the environment looks like the following:\n",
    "```python\n",
    "env_info = env.reset(train_mode=True)[brain_name]\n",
    "```\n",
    "- To structure your work, you're welcome to work directly in this Jupyter notebook, or you might like to start over with a new file!  You can see the list of files in the workspace by clicking on **_Jupyter_** in the top left corner of the notebook.\n",
    "- In this coding environment, you will not be able to watch the agents while they are training.  However, **_after training the agents_**, you can download the saved model weights to watch the agents on your own machine! "
   ]
  },
  {
   "cell_type": "code",
   "execution_count": 7,
   "metadata": {},
   "outputs": [],
   "source": [
    "from maddpg import MADDPGAgent\n",
    "from collections import deque\n",
    "from workspaceUtils import keep_awake\n",
    "import torch"
   ]
  },
  {
   "cell_type": "code",
   "execution_count": 8,
   "metadata": {},
   "outputs": [],
   "source": [
    "agent = MADDPGAgent(state_size=state_size, action_size=action_size, seed=0)"
   ]
  },
  {
   "cell_type": "code",
   "execution_count": 9,
   "metadata": {},
   "outputs": [],
   "source": [
    "def train(n_episodes=10000, max_t=1000):\n",
    "    \"\"\"\n",
    "    INPUT\n",
    "    - n_episodes (int): max number of training episodes\n",
    "    - max_t (int): max time steps for each training episode\n",
    "    \"\"\"\n",
    "    scores = [] # list of average score of all agents for each training episode \n",
    "    scores_deque = deque(maxlen=100) # last 100 averaged score for all agents\n",
    "    scores_mean = [] # list of average score for all agents for 100 consecutive episodes\n",
    "    \n",
    "    for i in keep_awake(range(1, n_episodes+1)):\n",
    "        # reset env\n",
    "        env_info = env.reset(train_mode=True)[brain_name]\n",
    "        \n",
    "        # to store the score for each agent for this episode, ini to 0\n",
    "        agents_score = np.zeros(num_agents)\n",
    "        \n",
    "        # ini state\n",
    "        states = env_info.vector_observations\n",
    "        \n",
    "        # reset the noise process\n",
    "        agent.reset()\n",
    "        \n",
    "        for t in range(max_t):\n",
    "            # agents take actions according to DDPG policy\n",
    "            actions = agent.act(states)\n",
    "            \n",
    "            # Upon receiving actions, env transits to the next state and provides rewards\n",
    "            env_info = env.step(actions)[brain_name]\n",
    "            next_states = env_info.vector_observations\n",
    "            rewards = env_info.rewards\n",
    "            dones = env_info.local_done\n",
    "            \n",
    "            # agent learn from experience tuples\n",
    "            agent.step(states, actions, rewards, next_states, dones)\n",
    "            \n",
    "            # update states\n",
    "            states = next_states\n",
    "            \n",
    "            # accumulative score for each agent\n",
    "            agents_score += rewards\n",
    "            \n",
    "            # check if any of the agent reach the end of episode\n",
    "            if np.any(dones):\n",
    "                break\n",
    "                \n",
    "        # take the max scores of all agent for this episode\n",
    "        score_for_this_episode = np.max(agents_score)\n",
    "        \n",
    "        scores_deque.append(score_for_this_episode)\n",
    "        \n",
    "        final_score = np.mean(scores_deque)\n",
    "        \n",
    "        scores.append(score_for_this_episode)\n",
    "        \n",
    "        if i % 100 == 0:\n",
    "            print('\\rEpisode {:}\\t Average Score {:.2f}'.format(i, final_score, end=''))\n",
    "            torch.save(agent.actor_local.state_dict(), 'checkpoint_actor1.pth')\n",
    "            torch.save(agent.critic_local.state_dict(),'checkpoint_critic1.pth')\n",
    "        if i >= 100:\n",
    "            scores_mean.append(final_score)\n",
    "        if final_score >= 0.5:\n",
    "            print(f'\\nEnvironment solved in {i} episodes. \\tAverage Score {final_score}')\n",
    "            torch.save(agent.actor_local.state_dict(), 'checkpoint_actor1.pth')\n",
    "            torch.save(agent.critic_local.state_dict(),'checkpoint_critic1.pth')\n",
    "            break\n",
    "    return scores, scores_mean, agent"
   ]
  },
  {
   "cell_type": "code",
   "execution_count": 10,
   "metadata": {},
   "outputs": [
    {
     "name": "stdout",
     "output_type": "stream",
     "text": [
      "Episode 100\t Average Score 0.01\n",
      "Episode 200\t Average Score 0.01\n",
      "Episode 300\t Average Score 0.02\n",
      "Episode 400\t Average Score 0.03\n",
      "Episode 500\t Average Score 0.01\n",
      "Episode 600\t Average Score 0.01\n",
      "Episode 700\t Average Score 0.00\n",
      "Episode 800\t Average Score 0.00\n",
      "Episode 900\t Average Score 0.00\n",
      "Episode 1000\t Average Score 0.00\n",
      "Episode 1100\t Average Score 0.00\n",
      "Episode 1200\t Average Score 0.01\n",
      "Episode 1300\t Average Score 0.02\n",
      "Episode 1400\t Average Score 0.03\n",
      "Episode 1500\t Average Score 0.01\n",
      "Episode 1600\t Average Score 0.03\n",
      "Episode 1700\t Average Score 0.23\n",
      "Episode 1800\t Average Score 0.29\n",
      "Episode 2000\t Average Score 0.31\n",
      "Episode 2100\t Average Score 0.22\n",
      "Episode 2200\t Average Score 0.09\n",
      "Episode 2300\t Average Score 0.13\n",
      "Episode 2400\t Average Score 0.22\n",
      "Episode 2500\t Average Score 0.28\n",
      "Episode 2600\t Average Score 0.25\n",
      "Episode 2700\t Average Score 0.06\n",
      "Episode 2800\t Average Score 0.36\n",
      "Episode 2900\t Average Score 0.26\n",
      "Episode 3000\t Average Score 0.17\n",
      "Episode 3100\t Average Score 0.13\n",
      "Episode 3200\t Average Score 0.09\n",
      "Episode 3300\t Average Score 0.11\n",
      "Episode 3400\t Average Score 0.07\n",
      "Episode 3500\t Average Score 0.05\n",
      "Episode 3600\t Average Score 0.09\n",
      "Episode 3700\t Average Score 0.13\n",
      "Episode 3800\t Average Score 0.18\n",
      "Episode 3900\t Average Score 0.15\n",
      "Episode 4000\t Average Score 0.18\n",
      "Episode 4100\t Average Score 0.15\n",
      "Episode 4200\t Average Score 0.10\n",
      "Episode 4300\t Average Score 0.01\n",
      "Episode 4400\t Average Score 0.01\n",
      "Episode 4500\t Average Score 0.00\n",
      "Episode 4600\t Average Score 0.00\n",
      "Episode 4700\t Average Score 0.00\n",
      "Episode 4800\t Average Score 0.00\n",
      "Episode 4900\t Average Score 0.00\n",
      "Episode 5000\t Average Score 0.00\n",
      "Episode 5100\t Average Score 0.05\n",
      "Episode 5200\t Average Score 0.06\n",
      "Episode 5300\t Average Score 0.08\n",
      "Episode 5400\t Average Score 0.06\n",
      "Episode 5500\t Average Score 0.05\n",
      "Episode 5600\t Average Score 0.03\n",
      "Episode 5700\t Average Score 0.03\n",
      "Episode 5800\t Average Score 0.01\n",
      "Episode 5900\t Average Score 0.00\n",
      "Episode 6000\t Average Score 0.01\n",
      "Episode 6100\t Average Score 0.05\n",
      "Episode 6200\t Average Score 0.06\n",
      "Episode 6300\t Average Score 0.09\n",
      "Episode 6400\t Average Score 0.09\n",
      "Episode 6500\t Average Score 0.11\n",
      "Episode 6600\t Average Score 0.14\n",
      "Episode 6700\t Average Score 0.22\n",
      "Episode 6800\t Average Score 0.52\n",
      "\n",
      "Environment solved in 6800 episodes. \tAverage Score 0.515900007802993\n"
     ]
    },
    {
     "ename": "NameError",
     "evalue": "name 'score_mean' is not defined",
     "output_type": "error",
     "traceback": [
      "\u001b[0;31m---------------------------------------------------------------------------\u001b[0m",
      "\u001b[0;31mNameError\u001b[0m                                 Traceback (most recent call last)",
      "\u001b[0;32m<ipython-input-10-71449085d18a>\u001b[0m in \u001b[0;36m<module>\u001b[0;34m()\u001b[0m\n\u001b[0;32m----> 1\u001b[0;31m \u001b[0mdscores\u001b[0m\u001b[0;34m,\u001b[0m \u001b[0mdscores_mean\u001b[0m\u001b[0;34m,\u001b[0m \u001b[0magent\u001b[0m \u001b[0;34m=\u001b[0m \u001b[0mtrain\u001b[0m\u001b[0;34m(\u001b[0m\u001b[0;34m)\u001b[0m\u001b[0;34m\u001b[0m\u001b[0m\n\u001b[0m",
      "\u001b[0;32m<ipython-input-9-b158e4d15026>\u001b[0m in \u001b[0;36mtrain\u001b[0;34m(n_episodes, max_t)\u001b[0m\n\u001b[1;32m     65\u001b[0m             \u001b[0mtorch\u001b[0m\u001b[0;34m.\u001b[0m\u001b[0msave\u001b[0m\u001b[0;34m(\u001b[0m\u001b[0magent\u001b[0m\u001b[0;34m.\u001b[0m\u001b[0mcritic_local\u001b[0m\u001b[0;34m.\u001b[0m\u001b[0mstate_dict\u001b[0m\u001b[0;34m(\u001b[0m\u001b[0;34m)\u001b[0m\u001b[0;34m,\u001b[0m\u001b[0;34m'checkpoint_critic1.pth'\u001b[0m\u001b[0;34m)\u001b[0m\u001b[0;34m\u001b[0m\u001b[0m\n\u001b[1;32m     66\u001b[0m             \u001b[0;32mbreak\u001b[0m\u001b[0;34m\u001b[0m\u001b[0m\n\u001b[0;32m---> 67\u001b[0;31m     \u001b[0;32mreturn\u001b[0m \u001b[0mscores\u001b[0m\u001b[0;34m,\u001b[0m \u001b[0mscore_mean\u001b[0m\u001b[0;34m,\u001b[0m \u001b[0magent\u001b[0m\u001b[0;34m\u001b[0m\u001b[0m\n\u001b[0m",
      "\u001b[0;31mNameError\u001b[0m: name 'score_mean' is not defined"
     ]
    }
   ],
   "source": [
    "scores, scores_mean, agent = train()"
   ]
  },
  {
   "cell_type": "code",
   "execution_count": null,
   "metadata": {},
   "outputs": [],
   "source": [
    "import matplotlib.pyplot as plt\n",
    "fig = plt.figure()\n",
    "ax = fig.add_subplot(111)\n",
    "plt.plot(np.arange(1, len(dscores)+1), dscores)\n",
    "plt.title('MADDPG agent')\n",
    "plt.ylabel('Score')\n",
    "plt.xlabel('Episode')\n",
    "plt.show()"
   ]
  },
  {
   "cell_type": "markdown",
   "metadata": {},
   "source": [
    "# Test the trained agents\n",
    "\n",
    "NOTE: the following codes are saved to the file `test.py`."
   ]
  },
  {
   "cell_type": "code",
   "execution_count": null,
   "metadata": {},
   "outputs": [],
   "source": [
    "!pip -q install ./python\n",
    "\n",
    "#load packages\n",
    "from unityagents import UnityEnvironment\n",
    "from maddpg import MADDPGAgent\n",
    "import numpy as np\n",
    "import random\n",
    "import torch\n",
    "import numpy as np\n",
    "from collections import deque\n",
    "import matplotlib.pyplot as plt\n",
    "%matplotlib inline\n",
    "\n",
    "# instantiate env\n",
    "env = UnityEnvironment(file_name=\"/data/Tennis_Linux_NoVis/Tennis\")# get the default brain\n",
    "brain_name = env.brain_names[0]\n",
    "brain = env.brains[brain_name]\n",
    "env_info = env.reset(train_mode=False)[brain_name]\n",
    "\n",
    "# instantiate agent\n",
    "agent = MADDPGAgent(state_size=env_info.vector_observations.shape[1], action_size= brain.vector_action_space_size, seed=1)\n",
    "\n",
    "# Load trained model weights\n",
    "agent.actor_local.load_state_dict(torch.load('checkpoint_actor1.pth'))\n",
    "agent.critic_local.load_state_dict(torch.load('checkpoint_critic1.pth'))\n",
    "\n",
    "num_agents = len(env_info.agents)\n",
    "env_info = env.reset(train_mode=False)[brain_name]      # reset the environment    \n",
    "states = env_info.vector_observations                  # get the current state (for each agent)\n",
    "# initialize the score (for each agent)\n",
    "scores = np.zeros(num_agents)                          # initialize the score (for each agent)\n",
    "while True:\n",
    "    actions = agent.act(states)\n",
    "    actions = np.clip(actions, -1, 1)                  # all actions between -1 and 1\n",
    "    env_info = env.step(actions)[brain_name]           # send all actions to tne environment\n",
    "    next_states = env_info.vector_observations         # get next state (for each agent)\n",
    "    rewards = env_info.rewards                         # get reward (for each agent)\n",
    "    dones = env_info.local_done                        # see if episode finished\n",
    "    scores += env_info.rewards                         # update the score (for each agent)\n",
    "    states = next_states                               # roll over states to next time step\n",
    "    if np.any(dones):                                  # exit loop if episode finished\n",
    "        break\n",
    "print('Total score (averaged over agents) this episode: {}'.format(np.mean(scores)))"
   ]
  },
  {
   "cell_type": "code",
   "execution_count": null,
   "metadata": {},
   "outputs": [],
   "source": [
    "env.close()"
   ]
  }
 ],
 "metadata": {
  "kernelspec": {
   "display_name": "Python 3",
   "language": "python",
   "name": "python3"
  },
  "language_info": {
   "codemirror_mode": {
    "name": "ipython",
    "version": 3
   },
   "file_extension": ".py",
   "mimetype": "text/x-python",
   "name": "python",
   "nbconvert_exporter": "python",
   "pygments_lexer": "ipython3",
   "version": "3.6.8"
  }
 },
 "nbformat": 4,
 "nbformat_minor": 2
}
